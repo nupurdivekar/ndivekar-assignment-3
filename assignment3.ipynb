{
  "cells": [
    {
      "cell_type": "markdown",
      "id": "245217cc",
      "metadata": {
        "id": "245217cc"
      },
      "source": [
        "# Assignment: SVD Preprocessing on MNIST with Logistic Regression"
      ]
    },
    {
      "cell_type": "markdown",
      "id": "deffa444",
      "metadata": {
        "id": "deffa444"
      },
      "source": [
        "## Instructions:\n",
        "In this assignment, you will apply **Singular Value Decomposition (SVD)** as a preprocessing step to the **MNIST dataset** and train a **logistic regression classifier**. You will compare the model performance and training time when using different levels of SVD for dimensionality reduction.\n",
        "\n",
        "In this assignment, you will need to:\n",
        "1. Load the MNIST dataset and normalize it.\n",
        "2. Perform SVD and reduce the dimensions of the data.\n",
        "3. Train a logistic regression model on the original and SVD-reduced data.\n",
        "4. Measure and compare the training time and accuracy of the model with varying SVD components.\n",
        "5. Plot the results and analyze how SVD impacts the performance and efficiency of the model.\n",
        "\n",
        "***\n",
        "Your tasks include:\n",
        "1. Implement SVD algorithm. You are not allowed to directly use SVD implemented by other packages, but you may use functions in NumPy. (Part 2)\n",
        "2. Explore the accuracy and time performance from different numbers of SVD components. (Part 4)\n",
        "3. Visualize the accuracy, time performance and top 5 singular vectors in the dataset, analyze and explain which number of SVD component looks best to you? (Part 4,5&6) Hint: singular vectors should be reshaped to 28x28 images for visualization.\n",
        "***\n",
        "**Note that you may not import any other function or package.** Let's get started!\n"
      ]
    },
    {
      "cell_type": "markdown",
      "id": "b3e10cb3",
      "metadata": {
        "id": "b3e10cb3"
      },
      "source": [
        "## Part 1: Load the MNIST dataset and preprocess the data"
      ]
    },
    {
      "cell_type": "code",
      "execution_count": 1,
      "id": "79f2d907",
      "metadata": {
        "colab": {
          "base_uri": "https://localhost:8080/"
        },
        "id": "79f2d907",
        "outputId": "7ca0c357-a57f-4f22-8f60-24c2a8c64f0c"
      },
      "outputs": [
        {
          "output_type": "stream",
          "name": "stdout",
          "text": [
            "Loading MNIST dataset...\n"
          ]
        }
      ],
      "source": [
        "import numpy as np\n",
        "import matplotlib.pyplot as plt\n",
        "import time\n",
        "from sklearn.linear_model import LogisticRegression\n",
        "from sklearn.model_selection import train_test_split\n",
        "from sklearn.datasets import fetch_openml\n",
        "from sklearn.metrics import accuracy_score, classification_report\n",
        "\n",
        "# Load MNIST dataset\n",
        "print(\"Loading MNIST dataset...\")\n",
        "mnist = fetch_openml('mnist_784', version=1)\n",
        "X = mnist.data\n",
        "y = mnist.target\n",
        "\n",
        "# Normalize the data\n",
        "X = X / 255.0\n",
        "\n",
        "# Split into training and test sets\n",
        "X_train, X_test, y_train, y_test = train_test_split(X, y, test_size=0.2, random_state=42)\n"
      ]
    },
    {
      "cell_type": "markdown",
      "id": "28b8572d",
      "metadata": {
        "id": "28b8572d"
      },
      "source": [
        "## Part 2: Implement SVD for Dimensionality Reduction"
      ]
    },
    {
      "cell_type": "code",
      "execution_count": 2,
      "id": "b3bd59f3",
      "metadata": {
        "id": "b3bd59f3"
      },
      "outputs": [],
      "source": [
        "# def apply_svd_custom(X_train, X_test, n_components):\n",
        "#     raise NotImplementedError(\"Your implementation here...\")\n",
        "\n",
        "\n",
        "\n",
        "def apply_svd_custom(X_train, X_test, n_components):\n",
        "    \"\"\"\n",
        "    Apply SVD to X_train and X_test, reducing to n_components dimensions.\n",
        "\n",
        "    Parameters:\n",
        "        X_train: Training data, shape (n_samples_train, n_features)\n",
        "        X_test: Test data, shape (n_samples_test, n_features)\n",
        "        n_components: Number of singular values/components to keep\n",
        "\n",
        "    Returns:\n",
        "        X_train_reduced: Transformed training data\n",
        "        X_test_reduced: Transformed test data\n",
        "        U: Left singular vectors\n",
        "        S: Singular values\n",
        "        Vt: Right singular vectors (transposed)\n",
        "    \"\"\"\n",
        "    # Center the training data\n",
        "    X_mean = np.mean(X_train, axis=0)\n",
        "    X_train_centered = X_train - X_mean\n",
        "    X_test_centered = X_test - X_mean  # Important: use training mean to center test data\n",
        "\n",
        "    # Compute covariance matrix (size: n_features x n_features)\n",
        "    covariance_matrix = np.dot(X_train_centered.T, X_train_centered) / (X_train_centered.shape[0] - 1)\n",
        "\n",
        "    # Compute eigenvalues and eigenvectors of the covariance matrix\n",
        "    eigvals, eigvecs = np.linalg.eigh(covariance_matrix)\n",
        "\n",
        "    # Sort eigenvalues and eigenvectors in descending order\n",
        "    idx = np.argsort(eigvals)[::-1]\n",
        "    eigvals = eigvals[idx]\n",
        "    eigvecs = eigvecs[:, idx]\n",
        "\n",
        "    # Compute singular values\n",
        "    singular_values = np.sqrt(eigvals)\n",
        "\n",
        "    # Keep the top n_components\n",
        "    V = eigvecs[:, :n_components]  # Right singular vectors (n_features x n_components)\n",
        "    S = singular_values[:n_components]\n",
        "\n",
        "    # Project data onto the principal components\n",
        "    X_train_reduced = np.dot(X_train_centered, V)\n",
        "    X_test_reduced = np.dot(X_test_centered, V)\n",
        "\n",
        "    # Compute U (left singular vectors)\n",
        "    U = np.dot(X_train_centered, V) / S\n",
        "\n",
        "    # Vt is the transpose of V\n",
        "    Vt = V.T\n",
        "\n",
        "    return X_train_reduced, X_test_reduced, U, S, Vt\n"
      ]
    },
    {
      "cell_type": "markdown",
      "id": "eb2a7a9d",
      "metadata": {
        "id": "eb2a7a9d"
      },
      "source": [
        "## Part 3: Train Logistic Regression and Measure Performance"
      ]
    },
    {
      "cell_type": "code",
      "execution_count": 3,
      "id": "dbfc0b10",
      "metadata": {
        "id": "dbfc0b10"
      },
      "outputs": [],
      "source": [
        "# Function to train logistic regression and track training time\n",
        "def train_logistic_regression(X_train, y_train, X_test, y_test):\n",
        "    model = LogisticRegression(max_iter=1000, solver='saga', random_state=42, multi_class='multinomial')\n",
        "\n",
        "    # Measure training time\n",
        "    start_time = time.time()\n",
        "    model.fit(X_train, y_train)\n",
        "    training_time = time.time() - start_time\n",
        "\n",
        "    y_pred = model.predict(X_test)\n",
        "    accuracy = accuracy_score(y_test, y_pred)\n",
        "\n",
        "    return accuracy, training_time\n"
      ]
    },
    {
      "cell_type": "markdown",
      "id": "2e557a05",
      "metadata": {
        "id": "2e557a05"
      },
      "source": [
        "## Part 4: Experiment with Different Levels of SVD\n",
        "\n",
        "Now, apply SVD with varying numbers of components and observe how the dimensionality reduction impacts the model's performance. Record both the accuracy and training time for each number of components.\n"
      ]
    },
    {
      "cell_type": "code",
      "execution_count": 5,
      "id": "3a460725",
      "metadata": {
        "colab": {
          "base_uri": "https://localhost:8080/"
        },
        "id": "3a460725",
        "outputId": "262f6954-1f1b-4000-a4f7-aff4142b6e6b"
      },
      "outputs": [
        {
          "output_type": "stream",
          "name": "stdout",
          "text": [
            "Training models with different levels of SVD preprocessing...\n",
            "\n",
            "Applying custom SVD with 5 components...\n"
          ]
        },
        {
          "output_type": "stream",
          "name": "stderr",
          "text": [
            "<ipython-input-2-2f910e565055>:39: RuntimeWarning: invalid value encountered in sqrt\n",
            "  singular_values = np.sqrt(eigvals)\n",
            "/usr/local/lib/python3.10/dist-packages/sklearn/linear_model/_logistic.py:1247: FutureWarning: 'multi_class' was deprecated in version 1.5 and will be removed in 1.7. From then on, it will always use 'multinomial'. Leave it to its default value to avoid this warning.\n",
            "  warnings.warn(\n"
          ]
        },
        {
          "output_type": "stream",
          "name": "stdout",
          "text": [
            "SVD components: 5, Accuracy: 0.6796, Training time: 0.8184 seconds\n",
            "\n",
            "Applying custom SVD with 20 components...\n"
          ]
        },
        {
          "output_type": "stream",
          "name": "stderr",
          "text": [
            "<ipython-input-2-2f910e565055>:39: RuntimeWarning: invalid value encountered in sqrt\n",
            "  singular_values = np.sqrt(eigvals)\n",
            "/usr/local/lib/python3.10/dist-packages/sklearn/linear_model/_logistic.py:1247: FutureWarning: 'multi_class' was deprecated in version 1.5 and will be removed in 1.7. From then on, it will always use 'multinomial'. Leave it to its default value to avoid this warning.\n",
            "  warnings.warn(\n"
          ]
        },
        {
          "output_type": "stream",
          "name": "stdout",
          "text": [
            "SVD components: 20, Accuracy: 0.8784, Training time: 3.4233 seconds\n",
            "\n",
            "Applying custom SVD with 50 components...\n"
          ]
        },
        {
          "output_type": "stream",
          "name": "stderr",
          "text": [
            "<ipython-input-2-2f910e565055>:39: RuntimeWarning: invalid value encountered in sqrt\n",
            "  singular_values = np.sqrt(eigvals)\n",
            "/usr/local/lib/python3.10/dist-packages/sklearn/linear_model/_logistic.py:1247: FutureWarning: 'multi_class' was deprecated in version 1.5 and will be removed in 1.7. From then on, it will always use 'multinomial'. Leave it to its default value to avoid this warning.\n",
            "  warnings.warn(\n"
          ]
        },
        {
          "output_type": "stream",
          "name": "stdout",
          "text": [
            "SVD components: 50, Accuracy: 0.9080, Training time: 13.9221 seconds\n",
            "\n",
            "Applying custom SVD with 100 components...\n"
          ]
        },
        {
          "output_type": "stream",
          "name": "stderr",
          "text": [
            "<ipython-input-2-2f910e565055>:39: RuntimeWarning: invalid value encountered in sqrt\n",
            "  singular_values = np.sqrt(eigvals)\n",
            "/usr/local/lib/python3.10/dist-packages/sklearn/linear_model/_logistic.py:1247: FutureWarning: 'multi_class' was deprecated in version 1.5 and will be removed in 1.7. From then on, it will always use 'multinomial'. Leave it to its default value to avoid this warning.\n",
            "  warnings.warn(\n"
          ]
        },
        {
          "output_type": "stream",
          "name": "stdout",
          "text": [
            "SVD components: 100, Accuracy: 0.9181, Training time: 46.4861 seconds\n",
            "\n",
            "Applying custom SVD with 200 components...\n"
          ]
        },
        {
          "output_type": "stream",
          "name": "stderr",
          "text": [
            "<ipython-input-2-2f910e565055>:39: RuntimeWarning: invalid value encountered in sqrt\n",
            "  singular_values = np.sqrt(eigvals)\n",
            "/usr/local/lib/python3.10/dist-packages/sklearn/linear_model/_logistic.py:1247: FutureWarning: 'multi_class' was deprecated in version 1.5 and will be removed in 1.7. From then on, it will always use 'multinomial'. Leave it to its default value to avoid this warning.\n",
            "  warnings.warn(\n"
          ]
        },
        {
          "output_type": "stream",
          "name": "stdout",
          "text": [
            "SVD components: 200, Accuracy: 0.9206, Training time: 97.0795 seconds\n",
            "\n",
            "Applying custom SVD with 500 components...\n"
          ]
        },
        {
          "output_type": "stream",
          "name": "stderr",
          "text": [
            "<ipython-input-2-2f910e565055>:39: RuntimeWarning: invalid value encountered in sqrt\n",
            "  singular_values = np.sqrt(eigvals)\n",
            "/usr/local/lib/python3.10/dist-packages/sklearn/linear_model/_logistic.py:1247: FutureWarning: 'multi_class' was deprecated in version 1.5 and will be removed in 1.7. From then on, it will always use 'multinomial'. Leave it to its default value to avoid this warning.\n",
            "  warnings.warn(\n"
          ]
        },
        {
          "output_type": "stream",
          "name": "stdout",
          "text": [
            "SVD components: 500, Accuracy: 0.9205, Training time: 344.7229 seconds\n",
            "\n",
            "Applying custom SVD with 784 components...\n"
          ]
        },
        {
          "output_type": "stream",
          "name": "stderr",
          "text": [
            "<ipython-input-2-2f910e565055>:39: RuntimeWarning: invalid value encountered in sqrt\n",
            "  singular_values = np.sqrt(eigvals)\n",
            "<ipython-input-2-2f910e565055>:50: RuntimeWarning: invalid value encountered in divide\n",
            "  U = np.dot(X_train_centered, V) / S\n",
            "/usr/local/lib/python3.10/dist-packages/sklearn/linear_model/_logistic.py:1247: FutureWarning: 'multi_class' was deprecated in version 1.5 and will be removed in 1.7. From then on, it will always use 'multinomial'. Leave it to its default value to avoid this warning.\n",
            "  warnings.warn(\n"
          ]
        },
        {
          "output_type": "stream",
          "name": "stdout",
          "text": [
            "SVD components: 784, Accuracy: 0.9207, Training time: 579.3630 seconds\n"
          ]
        }
      ],
      "source": [
        "svd_components = [5, 20, 50, 100, 200, 500, 784]  # 784 is the original dimension\n",
        "\n",
        "# Store the results\n",
        "results = []\n",
        "\n",
        "print(\"Training models with different levels of SVD preprocessing...\")\n",
        "for n_components in svd_components:\n",
        "    print(f\"\\nApplying custom SVD with {n_components} components...\")\n",
        "\n",
        "    # Apply SVD to the training and test sets\n",
        "    X_train_svd, X_test_svd, U, S, Vt = apply_svd_custom(X_train, X_test, n_components)\n",
        "\n",
        "    # Train the logistic regression model and get accuracy and training time\n",
        "    accuracy, training_time = train_logistic_regression(X_train_svd, y_train, X_test_svd, y_test)\n",
        "\n",
        "    print(f\"SVD components: {n_components}, Accuracy: {accuracy:.4f}, Training time: {training_time:.4f} seconds\")\n",
        "\n",
        "    # Store the results\n",
        "    results.append({'n_components': n_components, 'accuracy': accuracy, 'training_time': training_time})\n"
      ]
    },
    {
      "cell_type": "markdown",
      "id": "ea7aca12",
      "metadata": {
        "id": "ea7aca12"
      },
      "source": [
        "## Part 5: Visualize and Analyze the Results\n",
        "\n",
        "Finally, plot the accuracy, training time as a function of the number of SVD components, and top 5 singular vectors. This will help you understand the trade-off between dimensionality reduction, accuracy, and model training time, and how SVD generally works. Hint: singular vectors should be reshaped to 28x28 images for visualization.\n"
      ]
    },
    {
      "cell_type": "code",
      "execution_count": 6,
      "id": "92ef0497",
      "metadata": {
        "colab": {
          "base_uri": "https://localhost:8080/",
          "height": 507
        },
        "id": "92ef0497",
        "outputId": "4d0e18bf-fef2-4274-fafd-9d1ae791c62d"
      },
      "outputs": [
        {
          "output_type": "display_data",
          "data": {
            "text/plain": [
              "<Figure size 1200x500 with 2 Axes>"
            ],
            "image/png": "[encoded data removed]"
          },
          "metadata": {}
        }
      ],
      "source": [
        "# Extract results for plotting\n",
        "components = [res['n_components'] for res in results]\n",
        "accuracies = [res['accuracy'] for res in results]\n",
        "training_times = [res['training_time'] for res in results]\n",
        "\n",
        "# Plot Accuracy vs. Number of Components\n",
        "plt.figure(figsize=(12, 5))\n",
        "\n",
        "plt.subplot(1, 2, 1)\n",
        "plt.plot(components, accuracies, marker='o')\n",
        "plt.title('Accuracy vs. Number of SVD Components')\n",
        "plt.xlabel('Number of SVD Components')\n",
        "plt.ylabel('Accuracy')\n",
        "plt.grid(True)\n",
        "\n",
        "# Plot Training Time vs. Number of Components\n",
        "plt.subplot(1, 2, 2)\n",
        "plt.plot(components, training_times, marker='o', color='orange')\n",
        "plt.title('Training Time vs. Number of SVD Components')\n",
        "plt.xlabel('Number of SVD Components')\n",
        "plt.ylabel('Training Time (seconds)')\n",
        "plt.grid(True)\n",
        "\n",
        "plt.tight_layout()\n",
        "plt.show()\n"
      ]
    },
    {
      "cell_type": "markdown",
      "id": "4210569a",
      "metadata": {
        "id": "4210569a"
      },
      "source": [
        "## Part 6: Analyze / Conclusion\n",
        "\n",
        "YOUR ANSWER:\n",
        "\n",
        "Analyzing the results, we find that increasing the number of SVD components significantly improves model accuracy up to a certain point. Accuracy rose sharply from 67.96% with 5 components to 90.80% with 50 components. However, beyond 50 components, the improvements slowed, reaching 92.07% at 784 components. Concurrently, training time increased exponentially—from 0.82 seconds with 5 components to 579.36 seconds with 784 components. This demonstrates that while more components can enhance accuracy, they also greatly increase computational cost.\n",
        "\n",
        "The initial rapid increase in accuracy occurs because the first few SVD components capture the most critical information in the data—the essential patterns that distinguish different digits. As we add more components, the model accesses more detailed and nuanced features, further refining its predictions. However, after a certain point, additional components contribute less to performance because they capture less significant variations or noise. Thus, increasing the number of components beyond 50 to 100 offers minimal accuracy gains while substantially increasing training time. Understanding this balance helps in selecting an optimal number of components that maximize accuracy without unnecessary computational expense."
      ]
    },
    {
      "cell_type": "code",
      "execution_count": null,
      "id": "d47f043c",
      "metadata": {
        "id": "d47f043c"
      },
      "outputs": [],
      "source": []
    }
  ],
  "metadata": {
    "kernelspec": {
      "display_name": "Python 3",
      "language": "python",
      "name": "python3"
    },
    "language_info": {
      "codemirror_mode": {
        "name": "ipython",
        "version": 3
      },
      "file_extension": ".py",
      "mimetype": "text/x-python",
      "name": "python",
      "nbconvert_exporter": "python",
      "pygments_lexer": "ipython3",
      "version": "3.8.10"
    },
    "colab": {
      "provenance": []
    }
  },
  "nbformat": 4,
  "nbformat_minor": 5
}